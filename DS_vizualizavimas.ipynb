{
  "nbformat": 4,
  "nbformat_minor": 0,
  "metadata": {
    "colab": {
      "name": "DS_vizualizavimas.ipynb",
      "provenance": [],
      "authorship_tag": "ABX9TyOP59pzq9u84v3vBgFkUAAp",
      "include_colab_link": true
    },
    "kernelspec": {
      "name": "python3",
      "display_name": "Python 3"
    }
  },
  "cells": [
    {
      "cell_type": "markdown",
      "metadata": {
        "id": "view-in-github",
        "colab_type": "text"
      },
      "source": [
        "<a href=\"https://colab.research.google.com/github/GabrieleKasputyte/Duomenu-gavyba/blob/main/DS_vizualizavimas.ipynb\" target=\"_parent\"><img src=\"https://colab.research.google.com/assets/colab-badge.svg\" alt=\"Open In Colab\"/></a>"
      ]
    },
    {
      "cell_type": "code",
      "metadata": {
        "id": "2kySdtP9iL_q"
      },
      "source": [
        "import pandas as pd\r\n",
        "# read the data\r\n",
        "url=\"https://raw.githubusercontent.com/erinijapranckeviciene/MLdata/main/Kaggle-data-suic.csv\"\r\n",
        "data = pd.read_csv(url)"
      ],
      "execution_count": null,
      "outputs": []
    },
    {
      "cell_type": "code",
      "metadata": {
        "id": "tZ3tn1B2iTbL"
      },
      "source": [
        "print(data.columns)"
      ],
      "execution_count": null,
      "outputs": []
    },
    {
      "cell_type": "code",
      "metadata": {
        "id": "lBpDHJnViV4W"
      },
      "source": [
        "isuic=data.drop(['suicides/100k pop', 'country-year', 'HDI for year',\r\n",
        "       ' gdp_for_year ($) ', 'generation'], axis=1)\r\n",
        "print(isuic.columns)"
      ],
      "execution_count": null,
      "outputs": []
    },
    {
      "cell_type": "code",
      "metadata": {
        "id": "ca0SqAqYiYBq"
      },
      "source": [
        "isuic.describe()"
      ],
      "execution_count": null,
      "outputs": []
    },
    {
      "cell_type": "code",
      "metadata": {
        "id": "5WDRPTLYiaOi"
      },
      "source": [
        "import seaborn as sns\r\n",
        "sns.set_theme()\r\n",
        "\r\n",
        "# Load the penguins dataset\r\n",
        "penguins = sns.load_dataset(\"penguins\")\r\n",
        "\r\n",
        "# Plot sepal width as a function of sepal_length across days\r\n",
        "g = sns.lmplot(\r\n",
        "    data=penguins,\r\n",
        "    x=\"bill_length_mm\", y=\"bill_depth_mm\", hue=\"species\",\r\n",
        "    height=5\r\n",
        ")\r\n",
        "\r\n",
        "# Use more informative axis labels than are provided by default\r\n",
        "g.set_axis_labels(\"Snoot length (mm)\", \"Snoot depth (mm)\")"
      ],
      "execution_count": null,
      "outputs": []
    },
    {
      "cell_type": "code",
      "metadata": {
        "id": "Bv2CxvTyidt5"
      },
      "source": [
        "import seaborn as sns\r\n",
        "sns.set_theme()\r\n",
        "\r\n",
        "# Load the penguins dataset\r\n",
        "penguins = sns.load_dataset(\"penguins\")\r\n",
        "\r\n",
        "# Plot sepal width as a function of sepal_length across days\r\n",
        "g = sns.lmplot(\r\n",
        "    data=isuic,\r\n",
        "    x=\"population\", y=\"suicides_no\", hue=\"sex\",\r\n",
        "    height=5\r\n",
        ")\r\n",
        "\r\n",
        "# Use more informative axis labels than are provided by default\r\n",
        "g.set_axis_labels(\"Population\", \"Suicides no.\")"
      ],
      "execution_count": null,
      "outputs": []
    },
    {
      "cell_type": "code",
      "metadata": {
        "id": "VmTf7yI0igZl"
      },
      "source": [
        "# Plot sepal width as a function of sepal_length across days\r\n",
        "g = sns.lmplot(\r\n",
        "    data=isuic,\r\n",
        "    x=\"gdp_per_capita ($)\", y=\"suicides_no\", hue=\"sex\",\r\n",
        "    height=5\r\n",
        ")\r\n",
        "\r\n",
        "# Use more informative axis labels than are provided by default\r\n",
        "g.set_axis_labels(\"GDP\", \"Suicides no.\")"
      ],
      "execution_count": null,
      "outputs": []
    },
    {
      "cell_type": "code",
      "metadata": {
        "id": "WQ4EWfHfiimA"
      },
      "source": [
        "import seaborn as sns\r\n",
        "\r\n",
        "sns.set_theme(style=\"dark\")\r\n",
        "flights = sns.load_dataset(\"flights\")\r\n",
        "\r\n",
        "# Plot each year's time series in its own facet\r\n",
        "g = sns.relplot(\r\n",
        "    data=flights,\r\n",
        "    x=\"month\", y=\"passengers\", col=\"year\", hue=\"year\",\r\n",
        "    kind=\"line\", palette=\"crest\", linewidth=4, zorder=5,\r\n",
        "    col_wrap=3, height=2, aspect=1.5, legend=False,\r\n",
        ")\r\n",
        "\r\n",
        "# Iterate over each subplot to customize further\r\n",
        "for year, ax in g.axes_dict.items():\r\n",
        "\r\n",
        "    # Add the title as an annotation within the plot\r\n",
        "    ax.text(.8, .85, year, transform=ax.transAxes, fontweight=\"bold\")\r\n",
        "\r\n",
        "    # Plot every year's time series in the background\r\n",
        "    sns.lineplot(\r\n",
        "        data=flights, x=\"month\", y=\"passengers\", units=\"year\",\r\n",
        "        estimator=None, color=\".7\", linewidth=1, ax=ax,\r\n",
        "    )\r\n",
        "\r\n",
        "# Reduce the frequency of the x axis ticks\r\n",
        "ax.set_xticks(ax.get_xticks()[::2])\r\n",
        "\r\n",
        "# Tweak the supporting aspects of the plot\r\n",
        "g.set_titles(\"\")\r\n",
        "g.set_axis_labels(\"\", \"Passengers\")\r\n",
        "g.tight_layout()"
      ],
      "execution_count": null,
      "outputs": []
    },
    {
      "cell_type": "code",
      "metadata": {
        "id": "jxFWE0SlilmA"
      },
      "source": [
        "salis = isuic[(isuic['country']==\"Lithuania\")]\r\n",
        "salis"
      ],
      "execution_count": null,
      "outputs": []
    },
    {
      "cell_type": "code",
      "metadata": {
        "id": "nlfENjPwinpC"
      },
      "source": [
        "import seaborn as sns\r\n",
        "\r\n",
        "sns.set_theme(style=\"dark\")\r\n",
        "flights = sns.load_dataset(\"flights\")\r\n",
        "\r\n",
        "\r\n",
        "# Plot each year's time series in its own facet\r\n",
        "g = sns.relplot(\r\n",
        "    data=salis,\r\n",
        "    x=\"population\", y=\"suicides_no\", col=\"year\", hue=\"year\",\r\n",
        "    kind=\"line\", palette=\"crest\", linewidth=4, zorder=5,\r\n",
        "    col_wrap=3, height=2, aspect=1.5, legend=False,\r\n",
        ")\r\n",
        "\r\n",
        "# Iterate over each subplot to customize further\r\n",
        "for year, ax in g.axes_dict.items():\r\n",
        "\r\n",
        "    # Add the title as an annotation within the plot\r\n",
        "    ax.text(.8, .85, year, transform=ax.transAxes, fontweight=\"bold\")\r\n",
        "\r\n",
        "    # Plot every year's time series in the background\r\n",
        "    sns.lineplot(\r\n",
        "        data=salis, x=\"population\", y=\"suicides_no\", units=\"year\",\r\n",
        "        estimator=None, color=\".7\", linewidth=1, ax=ax,\r\n",
        "    )\r\n",
        "\r\n",
        "# Reduce the frequency of the x axis ticks\r\n",
        "ax.set_xticks(ax.get_xticks()[::2])\r\n",
        "\r\n",
        "# Tweak the supporting aspects of the plot\r\n",
        "g.set_titles(\"\")\r\n",
        "g.set_axis_labels(\"\", \"Suicides\")\r\n",
        "g.tight_layout()"
      ],
      "execution_count": null,
      "outputs": []
    },
    {
      "cell_type": "code",
      "metadata": {
        "id": "CqrSG5q1it2e"
      },
      "source": [
        "g = sns.relplot(\r\n",
        "    data=salis,\r\n",
        "    x=\"gdp_per_capita ($)\", y=\"suicides_no\", col=\"year\", hue=\"year\",\r\n",
        "    kind=\"line\", palette=\"crest\", linewidth=4, zorder=5,\r\n",
        "    col_wrap=3, height=2, aspect=1.5, legend=False,\r\n",
        ")\r\n",
        "\r\n",
        "# Iterate over each subplot to customize further\r\n",
        "for year, ax in g.axes_dict.items():\r\n",
        "\r\n",
        "    # Add the title as an annotation within the plot\r\n",
        "    ax.text(.8, .85, year, transform=ax.transAxes, fontweight=\"bold\")\r\n",
        "\r\n",
        "    # Plot every year's time series in the background\r\n",
        "    sns.lineplot(\r\n",
        "        data=salis, x=\"gdp_per_capita ($)\", y=\"suicides_no\", units=\"year\",\r\n",
        "        estimator=None, color=\".7\", linewidth=1, ax=ax,\r\n",
        "    )\r\n",
        "\r\n",
        "# Reduce the frequency of the x axis ticks\r\n",
        "ax.set_xticks(ax.get_xticks()[::2])\r\n",
        "\r\n",
        "# Tweak the supporting aspects of the plot\r\n",
        "g.set_titles(\"\")\r\n",
        "g.set_axis_labels(\"\", \"Suicides\")\r\n",
        "g.tight_layout()"
      ],
      "execution_count": null,
      "outputs": []
    },
    {
      "cell_type": "code",
      "metadata": {
        "id": "4cOGxn3Yiw-D"
      },
      "source": [
        ""
      ],
      "execution_count": null,
      "outputs": []
    }
  ]
}