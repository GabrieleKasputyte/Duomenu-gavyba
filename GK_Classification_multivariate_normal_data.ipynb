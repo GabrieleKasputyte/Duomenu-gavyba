{
  "nbformat": 4,
  "nbformat_minor": 0,
  "metadata": {
    "colab": {
      "name": "Classification multivariate normal data.ipynb",
      "provenance": [],
      "authorship_tag": "ABX9TyN5aizv5Al2TE5l9VtENfrV",
      "include_colab_link": true
    },
    "kernelspec": {
      "name": "python3",
      "display_name": "Python 3"
    }
  },
  "cells": [
    {
      "cell_type": "markdown",
      "metadata": {
        "id": "view-in-github",
        "colab_type": "text"
      },
      "source": [
        "<a href=\"https://colab.research.google.com/github/GabrieleKasputyte/Duomenu-gavyba/blob/main/Classification_multivariate_normal_data.ipynb\" target=\"_parent\"><img src=\"https://colab.research.google.com/assets/colab-badge.svg\" alt=\"Open In Colab\"/></a>"
      ]
    },
    {
      "cell_type": "markdown",
      "metadata": {
        "id": "7WpSJi5Kv35U"
      },
      "source": [
        "# Linearly separable case with unity covariance matrix\n",
        "This is nearest mean classifier"
      ]
    },
    {
      "cell_type": "code",
      "metadata": {
        "id": "DTSy4FRabo7D"
      },
      "source": [
        "import matplotlib.pyplot as plt\n",
        "import numpy as np\n",
        "\n",
        "m1 = np.array([0, 0])\n",
        "m2 = np.array([5, 5])\n",
        "sigma = [[1, 0], [0, 1]]  # diagonal covariance\n",
        "\n",
        "#class 1 \n",
        "x1 = np.random.multivariate_normal(m1, sigma, 1000)\n",
        "y1 = np.repeat(0, 1000)\n",
        "#class 2\n",
        "x2 = np.random.multivariate_normal(m2, sigma, 1000)\n",
        "y2 = np.repeat(1, 1000)"
      ],
      "execution_count": null,
      "outputs": []
    },
    {
      "cell_type": "code",
      "metadata": {
        "id": "xD6UoLZ1NirO"
      },
      "source": [
        "y_class = np.concatenate((y1, y2), axis=None)"
      ],
      "execution_count": null,
      "outputs": []
    },
    {
      "cell_type": "code",
      "metadata": {
        "colab": {
          "base_uri": "https://localhost:8080/",
          "height": 269
        },
        "id": "WaoF9Le_RU5W",
        "outputId": "8ceaba6d-a2bd-4058-9981-41eba410b200"
      },
      "source": [
        "import numpy as np\n",
        "\n",
        "# axis limits\n",
        "xr = np.array([-10,20])\n",
        "\n",
        "yr = np.array([-5,15])\n",
        "\n",
        "import matplotlib.pyplot as plt\n",
        "plt.plot(x1[:,0], x1[:,1], 'b.', x2[:,0], x2[:,1], 'r.', m1[0], m1[1], 'k.', m2[0],m2[1], 'k.')\n",
        "plt.axis(np.concatenate((xr, yr)))\n",
        "plt.show()"
      ],
      "execution_count": null,
      "outputs": [
        {
          "output_type": "display_data",
          "data": {
            "image/png": "[encoded data removed]",
            "text/plain": [
              "<Figure size 432x288 with 1 Axes>"
            ]
          },
          "metadata": {
            "tags": [],
            "needs_background": "light"
          }
        }
      ]
    },
    {
      "cell_type": "markdown",
      "metadata": {
        "id": "AgOeoKnpwH06"
      },
      "source": [
        "Compute classifier.\n",
        "\n",
        "Estimate the common covariance matrix"
      ]
    },
    {
      "cell_type": "code",
      "metadata": {
        "colab": {
          "base_uri": "https://localhost:8080/"
        },
        "id": "AAUbLAW8Za0Z",
        "outputId": "33d10a95-e537-4a35-942d-9738b9ad3f4f"
      },
      "source": [
        "import numpy as np\n",
        "\n",
        "c1 = np.cov(x1.T)\n",
        "c2 = np.cov(x2.T)\n",
        "\n",
        "c = 0.5 *(c1+c2)\n",
        "print(c)\n",
        "\n",
        "m = m1-m2\n",
        "print(m)"
      ],
      "execution_count": null,
      "outputs": [
        {
          "output_type": "stream",
          "text": [
            "[[1.00028119 0.04255703]\n",
            " [0.04255703 0.98508607]]\n",
            "[-5 -5]\n"
          ],
          "name": "stdout"
        }
      ]
    },
    {
      "cell_type": "markdown",
      "metadata": {
        "id": "jLbw_Iw9wPZV"
      },
      "source": [
        "Compute LDC weights"
      ]
    },
    {
      "cell_type": "code",
      "metadata": {
        "colab": {
          "base_uri": "https://localhost:8080/"
        },
        "id": "RKcr_D71dGk3",
        "outputId": "c8e1d555-36ab-4e24-bdbb-9ba8f8f15d59"
      },
      "source": [
        "from numpy.linalg import inv\n",
        "w = np.matmul(m.T, inv(c))\n",
        "#lets normalize vector w\n",
        "wn = w/np. linalg. norm(w)\n",
        "print(w,wn)"
      ],
      "execution_count": null,
      "outputs": [
        {
          "output_type": "stream",
          "text": [
            "[-4.79145521 -4.86870134] [-0.70143007 -0.71273828]\n"
          ],
          "name": "stdout"
        }
      ]
    },
    {
      "cell_type": "markdown",
      "metadata": {
        "id": "fve1hQkDwV1n"
      },
      "source": [
        "This is nearest mean classifier. The w equal to m and it is an optimal direction to project. The class points w is a row vector; for dot product it should be multiplied by the column vector. The x1 should be transposed."
      ]
    },
    {
      "cell_type": "markdown",
      "metadata": {
        "id": "CbgbJn2zwp9r"
      },
      "source": [
        "Lets project the points on the direction wn"
      ]
    },
    {
      "cell_type": "code",
      "metadata": {
        "id": "kTJy877MiuDQ"
      },
      "source": [
        "p1 = np.matmul(wn, x1.T)\n",
        "#print(p1[1])\n",
        "p2 = np.matmul(wn, x2.T)"
      ],
      "execution_count": null,
      "outputs": []
    },
    {
      "cell_type": "markdown",
      "metadata": {
        "id": "_NW24szhwtrU"
      },
      "source": [
        "p1 and p2 are projected class points onto direction m. \n",
        "pot their histogram"
      ]
    },
    {
      "cell_type": "code",
      "metadata": {
        "colab": {
          "base_uri": "https://localhost:8080/",
          "height": 428
        },
        "id": "jfShXRoKjcW8",
        "outputId": "d55f7dfe-bf70-4e50-ce35-2f123eb8ecb4"
      },
      "source": [
        "fig, ax = plt.subplots(figsize =(10, 7)) \n",
        "ax.hist(np.concatenate((p1,p2))) \n",
        "plt.show() "
      ],
      "execution_count": null,
      "outputs": [
        {
          "output_type": "display_data",
          "data": {
            "image/png": "[encoded data removed]",
            "text/plain": [
              "<Figure size 720x504 with 1 Axes>"
            ]
          },
          "metadata": {
            "tags": [],
            "needs_background": "light"
          }
        }
      ]
    },
    {
      "cell_type": "markdown",
      "metadata": {
        "id": "y_lSrgv-wy5X"
      },
      "source": [
        "b in this scenario is a point in the middle of the vector that is connecting m1 and m2 it is (2.5, 2.5). lets project it onto wn and this will be our b"
      ]
    },
    {
      "cell_type": "code",
      "metadata": {
        "colab": {
          "base_uri": "https://localhost:8080/"
        },
        "id": "eJF1PlvbkAuV",
        "outputId": "294a67c1-e77a-4c62-f213-efb63acc35c3"
      },
      "source": [
        "b= np.matmul(wn, [2.5,2.5])\n",
        "print(b)"
      ],
      "execution_count": null,
      "outputs": [
        {
          "output_type": "stream",
          "text": [
            "-3.535420877069963\n"
          ],
          "name": "stdout"
        }
      ]
    },
    {
      "cell_type": "markdown",
      "metadata": {
        "id": "uMTZsC-Dw5w-"
      },
      "source": [
        "classification rule is  compute z=wn%*%x-b compare it with threshold T, if z< 0 then class 1 otherwise class2 "
      ]
    },
    {
      "cell_type": "code",
      "metadata": {
        "colab": {
          "base_uri": "https://localhost:8080/",
          "height": 483
        },
        "id": "As2xznpNkbj_",
        "outputId": "3c84e73d-6649-42db-eb6e-2853d18b3c26"
      },
      "source": [
        "p1_1 = [i - b for i in np.matmul(wn, x1.T)]\n",
        "p2_1 = np.matmul(wn, x2.T)-b\n",
        "\n",
        "print(p1[1:10],p1_1[1:10])\n",
        "\n",
        "fig, ax = plt.subplots(figsize =(10, 7)) \n",
        "ax.hist(np.concatenate((p1_1,p2_1))) \n",
        "plt.show() \n",
        "\n",
        "p = np.concatenate((p1_1, p2_1))"
      ],
      "execution_count": null,
      "outputs": [
        {
          "output_type": "stream",
          "text": [
            "[ 0.52631467 -0.90011227 -0.93209944  0.0188195   0.94048092  0.53983195\n",
            "  0.65244821 -0.76684753 -1.63188149] [4.061735543548772, 2.635308610625839, 2.6033214336668395, 3.554240373400062, 4.475901794387364, 4.075252826463353, 4.187869090690836, 2.7685733509155166, 1.903539388970814]\n"
          ],
          "name": "stdout"
        },
        {
          "output_type": "display_data",
          "data": {
            "image/png": "[encoded data removed]",
            "text/plain": [
              "<Figure size 720x504 with 1 Axes>"
            ]
          },
          "metadata": {
            "tags": [],
            "needs_background": "light"
          }
        }
      ]
    },
    {
      "cell_type": "markdown",
      "metadata": {
        "id": "fQ1SUKX0xCev"
      },
      "source": [
        "This is artificially created to show  meaning of confuson table and ROC Classification by applying threshold if w%*%x > T then class1 , if < T then class2 T range"
      ]
    },
    {
      "cell_type": "code",
      "metadata": {
        "colab": {
          "base_uri": "https://localhost:8080/"
        },
        "id": "JldLCDV7pcTg",
        "outputId": "cd444714-6076-4510-eadf-39d3cd285ccc"
      },
      "source": [
        "p= np.concatenate((p1,p2))\n",
        "\n",
        "N= len(y_class)\n",
        "print(N)\n",
        "\n",
        "Tr = np.linspace(start=-20, stop=20, num=41)\n",
        "print(Tr)\n",
        "\n",
        "#TPR  = np.repeat(0, len(Tr))\n",
        "#FPR  = np.repeat(0, len(Tr))\n",
        "\n"
      ],
      "execution_count": null,
      "outputs": [
        {
          "output_type": "stream",
          "text": [
            "2000\n",
            "[-20. -19. -18. -17. -16. -15. -14. -13. -12. -11. -10.  -9.  -8.  -7.\n",
            "  -6.  -5.  -4.  -3.  -2.  -1.   0.   1.   2.   3.   4.   5.   6.   7.\n",
            "   8.   9.  10.  11.  12.  13.  14.  15.  16.  17.  18.  19.  20.]\n"
          ],
          "name": "stdout"
        }
      ]
    },
    {
      "cell_type": "code",
      "metadata": {
        "colab": {
          "base_uri": "https://localhost:8080/"
        },
        "id": "loyh9cKTAICZ",
        "outputId": "f7f753fc-4b40-4852-ad20-0e93d89842a4"
      },
      "source": [
        "from collections import Counter\n",
        "import collections\n",
        "TPR = []\n",
        "FPR = []\n",
        "i=0\n",
        "for T in Tr:\n",
        "  r = pd.Series(1*(p<T), dtype=\"category\")\n",
        "  r = r.cat.set_categories([0,1])\n",
        "  t = pd.crosstab(y_class, r, rownames=['y_class'], colnames=['rf'],dropna=False)\n",
        "  print(t)\n",
        "  # True positives and True Negatives\n",
        "  # in other words correct classifications\n",
        "  # are on diagonal of the confusion table\n",
        "  correctc=sum(numpy.diag(t))\n",
        "  print(correctc)\n",
        "  # false classifications are \n",
        "  # off diagonal\n",
        "  falsec=t[0][1]+t[1][0]\n",
        "  print(falsec)\n",
        "  # We want a choice of threshold \n",
        "  # to maximize correctc and minimize falsec RATE\n",
        "  tpr=correctc/N\n",
        "  fpr=falsec/N\n",
        "  TPR.append(tpr)\n",
        "  FPR.append(fpr)\n",
        " \n",
        " \n"
      ],
      "execution_count": null,
      "outputs": [
        {
          "output_type": "stream",
          "text": [
            "rf          0  1\n",
            "y_class         \n",
            "0        1000  0\n",
            "1        1000  0\n",
            "1000\n",
            "1000\n",
            "rf          0  1\n",
            "y_class         \n",
            "0        1000  0\n",
            "1        1000  0\n",
            "1000\n",
            "1000\n",
            "rf          0  1\n",
            "y_class         \n",
            "0        1000  0\n",
            "1        1000  0\n",
            "1000\n",
            "1000\n",
            "rf          0  1\n",
            "y_class         \n",
            "0        1000  0\n",
            "1        1000  0\n",
            "1000\n",
            "1000\n",
            "rf          0  1\n",
            "y_class         \n",
            "0        1000  0\n",
            "1        1000  0\n",
            "1000\n",
            "1000\n",
            "rf          0  1\n",
            "y_class         \n",
            "0        1000  0\n",
            "1        1000  0\n",
            "1000\n",
            "1000\n",
            "rf          0  1\n",
            "y_class         \n",
            "0        1000  0\n",
            "1        1000  0\n",
            "1000\n",
            "1000\n",
            "rf          0  1\n",
            "y_class         \n",
            "0        1000  0\n",
            "1        1000  0\n",
            "1000\n",
            "1000\n",
            "rf          0  1\n",
            "y_class         \n",
            "0        1000  0\n",
            "1        1000  0\n",
            "1000\n",
            "1000\n",
            "rf          0  1\n",
            "y_class         \n",
            "0        1000  0\n",
            "1        1000  0\n",
            "1000\n",
            "1000\n",
            "rf          0  1\n",
            "y_class         \n",
            "0        1000  0\n",
            "1        1000  0\n",
            "1000\n",
            "1000\n",
            "rf          0  1\n",
            "y_class         \n",
            "0        1000  0\n",
            "1        1000  0\n",
            "1000\n",
            "1000\n",
            "rf          0  1\n",
            "y_class         \n",
            "0        1000  0\n",
            "1        1000  0\n",
            "1000\n",
            "1000\n",
            "rf          0  1\n",
            "y_class         \n",
            "0        1000  0\n",
            "1        1000  0\n",
            "1000\n",
            "1000\n",
            "rf          0  1\n",
            "y_class         \n",
            "0        1000  0\n",
            "1         993  7\n",
            "1007\n",
            "993\n",
            "rf          0   1\n",
            "y_class          \n",
            "0        1000   0\n",
            "1         924  76\n",
            "1076\n",
            "924\n",
            "rf          0    1\n",
            "y_class           \n",
            "0        1000    0\n",
            "1         675  325\n",
            "1325\n",
            "675\n",
            "rf          0    1\n",
            "y_class           \n",
            "0        1000    0\n",
            "1         310  690\n",
            "1690\n",
            "310\n",
            "rf          0    1\n",
            "y_class           \n",
            "0        1000    0\n",
            "1          77  923\n",
            "1923\n",
            "77\n",
            "rf          0    1\n",
            "y_class           \n",
            "0        1000    0\n",
            "1           9  991\n",
            "1991\n",
            "9\n",
            "rf          0     1\n",
            "y_class            \n",
            "0        1000     0\n",
            "1           0  1000\n",
            "2000\n",
            "0\n",
            "rf         0     1\n",
            "y_class           \n",
            "0        992     8\n",
            "1          0  1000\n",
            "1992\n",
            "8\n",
            "rf         0     1\n",
            "y_class           \n",
            "0        933    67\n",
            "1          0  1000\n",
            "1933\n",
            "67\n",
            "rf         0     1\n",
            "y_class           \n",
            "0        709   291\n",
            "1          0  1000\n",
            "1709\n",
            "291\n",
            "rf         0     1\n",
            "y_class           \n",
            "0        327   673\n",
            "1          0  1000\n",
            "1327\n",
            "673\n",
            "rf        0     1\n",
            "y_class          \n",
            "0        63   937\n",
            "1         0  1000\n",
            "1063\n",
            "937\n",
            "rf       0     1\n",
            "y_class         \n",
            "0        4   996\n",
            "1        0  1000\n",
            "1004\n",
            "996\n",
            "rf       0     1\n",
            "y_class         \n",
            "0        1   999\n",
            "1        0  1000\n",
            "1001\n",
            "999\n",
            "rf       0     1\n",
            "y_class         \n",
            "0        0  1000\n",
            "1        0  1000\n",
            "1000\n",
            "1000\n",
            "rf       0     1\n",
            "y_class         \n",
            "0        0  1000\n",
            "1        0  1000\n",
            "1000\n",
            "1000\n",
            "rf       0     1\n",
            "y_class         \n",
            "0        0  1000\n",
            "1        0  1000\n",
            "1000\n",
            "1000\n",
            "rf       0     1\n",
            "y_class         \n",
            "0        0  1000\n",
            "1        0  1000\n",
            "1000\n",
            "1000\n",
            "rf       0     1\n",
            "y_class         \n",
            "0        0  1000\n",
            "1        0  1000\n",
            "1000\n",
            "1000\n",
            "rf       0     1\n",
            "y_class         \n",
            "0        0  1000\n",
            "1        0  1000\n",
            "1000\n",
            "1000\n",
            "rf       0     1\n",
            "y_class         \n",
            "0        0  1000\n",
            "1        0  1000\n",
            "1000\n",
            "1000\n",
            "rf       0     1\n",
            "y_class         \n",
            "0        0  1000\n",
            "1        0  1000\n",
            "1000\n",
            "1000\n",
            "rf       0     1\n",
            "y_class         \n",
            "0        0  1000\n",
            "1        0  1000\n",
            "1000\n",
            "1000\n",
            "rf       0     1\n",
            "y_class         \n",
            "0        0  1000\n",
            "1        0  1000\n",
            "1000\n",
            "1000\n",
            "rf       0     1\n",
            "y_class         \n",
            "0        0  1000\n",
            "1        0  1000\n",
            "1000\n",
            "1000\n",
            "rf       0     1\n",
            "y_class         \n",
            "0        0  1000\n",
            "1        0  1000\n",
            "1000\n",
            "1000\n",
            "rf       0     1\n",
            "y_class         \n",
            "0        0  1000\n",
            "1        0  1000\n",
            "1000\n",
            "1000\n"
          ],
          "name": "stdout"
        }
      ]
    },
    {
      "cell_type": "code",
      "metadata": {
        "colab": {
          "base_uri": "https://localhost:8080/",
          "height": 273
        },
        "id": "_HIf4wD6ogt6",
        "outputId": "93e8fc3d-6337-4cfc-b391-0ac979d9fe57"
      },
      "source": [
        "fig, ax = plt.subplots()\n",
        "ax.scatter(FPR, TPR)\n",
        "ax.set(xlim=(0, 1), ylim=(0, 1))\n",
        "\n",
        "for i, txt in enumerate(Tr):\n",
        "    ax.annotate(txt, (FPR[i], TPR[i]))\n"
      ],
      "execution_count": null,
      "outputs": [
        {
          "output_type": "display_data",
          "data": {
            "image/png": "[encoded data removed]",
            "text/plain": [
              "<Figure size 432x288 with 1 Axes>"
            ]
          },
          "metadata": {
            "tags": [],
            "needs_background": "light"
          }
        }
      ]
    },
    {
      "cell_type": "markdown",
      "metadata": {
        "id": "DnfLmScxu_VI"
      },
      "source": [
        "\n",
        "# LETS make data nonseparable\n",
        " Linearly separable case with common covariance matrix"
      ]
    },
    {
      "cell_type": "code",
      "metadata": {
        "colab": {
          "base_uri": "https://localhost:8080/",
          "height": 269
        },
        "id": "Hr5nff7MvFr7",
        "outputId": "3238db95-c8ad-4ee6-9192-79ffcd3b1f48"
      },
      "source": [
        "m1 = np.array([0, 0])\n",
        "m2 = np.array([10, 10])\n",
        "sigma = [[10, 3], [3, 2]] \n",
        "\n",
        "x1 = np.random.multivariate_normal(m1, sigma, 1000)\n",
        "y1 = np.repeat(0, 1000)\n",
        "\n",
        "x2 = np.random.multivariate_normal(m2, sigma, 1000)\n",
        "y2 = np.repeat(1, 1000)\n",
        "\n",
        "xr = np.array([-10,20])\n",
        "\n",
        "yr = np.array([-5,15])\n",
        "\n",
        "import matplotlib.pyplot as plt\n",
        "plt.plot(x1[:,0], x1[:,1], 'b.', x2[:,0], x2[:,1], 'r.', m1[0], m1[1], 'k.', m2[0],m2[1], 'k.')\n",
        "plt.axis(np.concatenate((xr, yr)))\n",
        "plt.show()"
      ],
      "execution_count": null,
      "outputs": [
        {
          "output_type": "display_data",
          "data": {
            "image/png": "[encoded data removed]",
            "text/plain": [
              "<Figure size 432x288 with 1 Axes>"
            ]
          },
          "metadata": {
            "tags": [],
            "needs_background": "light"
          }
        }
      ]
    },
    {
      "cell_type": "code",
      "metadata": {
        "colab": {
          "base_uri": "https://localhost:8080/"
        },
        "id": "b8pmCKvevqJv",
        "outputId": "4487cee1-e248-4419-f779-1fcf423d202d"
      },
      "source": [
        "c1 = np.cov(x1.T)\n",
        "c2 = np.cov(x2.T)\n",
        "\n",
        "c = 0.5 *(c1+c2)\n",
        "print(c)\n",
        "\n",
        "m = m1-m2\n",
        "print(m)"
      ],
      "execution_count": null,
      "outputs": [
        {
          "output_type": "stream",
          "text": [
            "[[10.15506881  3.0245567 ]\n",
            " [ 3.0245567   1.99932338]]\n",
            "[-10 -10]\n"
          ],
          "name": "stdout"
        }
      ]
    },
    {
      "cell_type": "code",
      "metadata": {
        "id": "V8XjDZeIvvlG"
      },
      "source": [
        "w = np.matmul(m.T, inv(c))\n",
        "wn = w/np. linalg. norm(w)"
      ],
      "execution_count": null,
      "outputs": []
    }
  ]
}
