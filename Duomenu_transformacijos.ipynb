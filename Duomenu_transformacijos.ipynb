{
  "nbformat": 4,
  "nbformat_minor": 0,
  "metadata": {
    "colab": {
      "name": "Duomenu-transformacijos.ipynb",
      "provenance": [],
      "authorship_tag": "ABX9TyP1uNTuAOX9TbytJUPu5L45",
      "include_colab_link": true
    },
    "kernelspec": {
      "name": "python3",
      "display_name": "Python 3"
    },
    "language_info": {
      "name": "python"
    }
  },
  "cells": [
    {
      "cell_type": "markdown",
      "metadata": {
        "id": "view-in-github",
        "colab_type": "text"
      },
      "source": [
        "<a href=\"https://colab.research.google.com/github/GabrieleKasputyte/Duomenu-gavyba/blob/main/Duomenu_transformacijos.ipynb\" target=\"_parent\"><img src=\"https://colab.research.google.com/assets/colab-badge.svg\" alt=\"Open In Colab\"/></a>"
      ]
    },
    {
      "cell_type": "code",
      "metadata": {
        "id": "BPT9tSn7b-Oc"
      },
      "source": [
        "import pandas as pd\n",
        "# ikeliu duomenis is Github, taip patogiau\n",
        "url=\"https://raw.githubusercontent.com/GabrieleKasputyte/Duomenu-gavyba/main/WDI-pop-struct.csv\"\n",
        "WDId = pd.read_csv(url,encoding=\"latin\")"
      ],
      "execution_count": 87,
      "outputs": []
    },
    {
      "cell_type": "code",
      "metadata": {
        "id": "KlqayRDwGhoc"
      },
      "source": [
        "WDId.drop(columns=['Country Code','Series Code'], axis=1, inplace=True)\n"
      ],
      "execution_count": 88,
      "outputs": []
    },
    {
      "cell_type": "code",
      "metadata": {
        "id": "-SGC8ljvH9oE"
      },
      "source": [
        "old_columns=list(WDId.columns)\n",
        "tcolumns=old_columns[2:]\n",
        "for column in range(len(tcolumns)):\n",
        "  tcolumns[column]=tcolumns[column].split(' ')[0]\n",
        "new_columns=old_columns[:2]+tcolumns"
      ],
      "execution_count": 99,
      "outputs": []
    },
    {
      "cell_type": "code",
      "metadata": {
        "id": "9M62WbnhHmY9"
      },
      "source": [
        "WDId.columns=new_columns\n",
        "WDId"
      ],
      "execution_count": null,
      "outputs": []
    },
    {
      "cell_type": "code",
      "metadata": {
        "id": "TzOguxLx1nBS"
      },
      "source": [
        "url=\"https://raw.githubusercontent.com/GabrieleKasputyte/Duomenu-gavyba/main/WHO-mort.csv\"\n",
        "WHOd=pd.read_csv(url)"
      ],
      "execution_count": 27,
      "outputs": []
    },
    {
      "cell_type": "code",
      "metadata": {
        "id": "tMR8SQ05cVT8"
      },
      "source": [
        "import pandas as pd\n",
        "url=\"https://raw.githubusercontent.com/GabrieleKasputyte/Duomenu-gavyba/main/WHO-mort.csv\"\n",
        "WHOd=pd.read_csv(url)\n",
        "names=list(WHOd.iloc[0,:])\n",
        "WHOd.columns=names\n",
        "WHOd.drop([0],axis=0,inplace=True)\n",
        "WHOd.columns=[\"Country\",\"Year\", \"PmortBoth\",\t\"PmortMale\",\t\"PmortFemale\",\t\"RSuicBoth\",\t\"RSuicMale\",\t\"RSuicFemale\"]\n",
        "WHOd\n"
      ],
      "execution_count": null,
      "outputs": []
    },
    {
      "cell_type": "code",
      "metadata": {
        "id": "cG82HU2g71Be"
      },
      "source": [
        "#print(WHOd[(WHOd[\"Country\"]==\"Afghanistan\")].iloc[:,:4])\n",
        "data_who=WHOd"
      ],
      "execution_count": 63,
      "outputs": []
    },
    {
      "cell_type": "code",
      "metadata": {
        "id": "i-JjA8qZ_NSI"
      },
      "source": [
        "data_who.index = list(range(len(data_who)))\n",
        " \n",
        "columns = list(data_who.columns)\n",
        "columns.remove('Country')\n",
        "columns.remove('Year')\n",
        "columns"
      ],
      "execution_count": null,
      "outputs": []
    },
    {
      "cell_type": "code",
      "metadata": {
        "id": "cRf7ebmFE0XD"
      },
      "source": [
        "for column in columns:\n",
        "    for i in range(len(data_who)):\n",
        "        #data_who[column] = data_who[column][i][:4]\n",
        "        data_who[column][i]=data_who[column][i].split(' ')[0]"
      ],
      "execution_count": 66,
      "outputs": []
    },
    {
      "cell_type": "code",
      "metadata": {
        "id": "JgdaN6N6FRd6"
      },
      "source": [
        "for column in columns:\n",
        "    for i in range(len(data_who)):\n",
        "        data_who[column][i]=float(data_who[column][i])"
      ],
      "execution_count": 69,
      "outputs": []
    },
    {
      "cell_type": "code",
      "metadata": {
        "id": "Rv3ZonGo_otQ"
      },
      "source": [
        "data_who['CY']=data_who['Country'] + ' ' +  data_who['Year']\n",
        "data_who"
      ],
      "execution_count": null,
      "outputs": []
    }
  ]
}